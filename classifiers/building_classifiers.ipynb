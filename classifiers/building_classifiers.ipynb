{
 "cells": [
  {
   "cell_type": "markdown",
   "metadata": {},
   "source": [
    "**GOALS**:\n",
    "- Discover techniques to process imbalanced data.\n",
    "- Explore data with more care.\n",
    "- Start to develop metrics and function to evaluate and tune models.\n",
    "- Feature selection (because treating all NaN adequately would take a long time -- 7xx features...)"
   ]
  },
  {
   "cell_type": "markdown",
   "metadata": {},
   "source": [
    "**Table of contents**<a id='toc0_'></a>    \n",
    "- 1. [Get some data](#toc1_)    \n",
    "- 2. [Plotting individuals in the income/credit plan](#toc2_)    \n",
    "- 3. [Addressing the class imbalance : under/oversampling & SMOTE](#toc3_)    \n",
    "- 4. [LightGBM for feature importance](#toc4_)    \n",
    "\n",
    "<!-- vscode-jupyter-toc-config\n",
    "\tnumbering=true\n",
    "\tanchor=true\n",
    "\tflat=false\n",
    "\tminLevel=1\n",
    "\tmaxLevel=6\n",
    "\t/vscode-jupyter-toc-config -->\n",
    "<!-- THIS CELL WILL BE REPLACED ON TOC UPDATE. DO NOT WRITE YOUR TEXT IN THIS CELL -->"
   ]
  },
  {
   "cell_type": "code",
   "execution_count": 8,
   "metadata": {},
   "outputs": [],
   "source": [
    "import gc\n",
    "\n",
    "import pandas as pd\n",
    "import numpy as np\n",
    "import matplotlib.pyplot as plt\n",
    "import seaborn as sns\n",
    "import utils\n",
    "import config\n",
    "import colorcet as cc\n",
    "\n",
    "from sklearn.linear_model import LogisticRegression\n",
    "from sklearn.model_selection import (\n",
    "    train_test_split, StratifiedKFold,\n",
    ")\n",
    "from sklearn.metrics import (\n",
    "    roc_auc_score, accuracy_score, precision_score, recall_score,\n",
    ")\n",
    "\n",
    "from imblearn.over_sampling import SMOTE, RandomOverSampler\n",
    "from imblearn.under_sampling import RandomUnderSampler   \n",
    "from imblearn.pipeline import Pipeline\n",
    "\n",
    "from lightgbm import LGBMClassifier\n"
   ]
  },
  {
   "cell_type": "markdown",
   "metadata": {},
   "source": [
    "# 1.  [&#9650;](#toc0_) <a id='toc1_'></a>Get some data"
   ]
  },
  {
   "cell_type": "code",
   "execution_count": 2,
   "metadata": {},
   "outputs": [],
   "source": [
    "#Pick a number of individuals for faster results.\n",
    "n_indiv = 5_000"
   ]
  },
  {
   "cell_type": "code",
   "execution_count": 3,
   "metadata": {},
   "outputs": [
    {
     "name": "stdout",
     "output_type": "stream",
     "text": [
      "Data shape: (307506, 41), target shape: (307506,)\n"
     ]
    }
   ],
   "source": [
    "# Get the features and target of individuals with a target.\n",
    "X, y = utils.prepare_data(config.FEATURE_PATH)"
   ]
  },
  {
   "cell_type": "code",
   "execution_count": 6,
   "metadata": {},
   "outputs": [
    {
     "data": {
      "text/html": [
       "<div>\n",
       "<style scoped>\n",
       "    .dataframe tbody tr th:only-of-type {\n",
       "        vertical-align: middle;\n",
       "    }\n",
       "\n",
       "    .dataframe tbody tr th {\n",
       "        vertical-align: top;\n",
       "    }\n",
       "\n",
       "    .dataframe thead th {\n",
       "        text-align: right;\n",
       "    }\n",
       "</style>\n",
       "<table border=\"1\" class=\"dataframe\">\n",
       "  <thead>\n",
       "    <tr style=\"text-align: right;\">\n",
       "      <th></th>\n",
       "      <th>NAME_CONTRACT_TYPE</th>\n",
       "      <th>CODE_GENDER</th>\n",
       "      <th>FLAG_OWN_CAR</th>\n",
       "      <th>CNT_CHILDREN</th>\n",
       "      <th>AMT_INCOME_TOTAL</th>\n",
       "      <th>AMT_CREDIT</th>\n",
       "      <th>NAME_INCOME_TYPE</th>\n",
       "      <th>NAME_EDUCATION_TYPE</th>\n",
       "      <th>NAME_FAMILY_STATUS</th>\n",
       "      <th>NAME_HOUSING_TYPE</th>\n",
       "      <th>...</th>\n",
       "      <th>AGE_RANGE</th>\n",
       "      <th>CREDIT_TO_INCOME_RATIO</th>\n",
       "      <th>INCOME_TO_BIRTH_RATIO</th>\n",
       "      <th>ID_TO_BIRTH_RATIO</th>\n",
       "      <th>CREDIT_TO_ANNUITY_GROUP</th>\n",
       "      <th>GROUP2_EXT_SOURCES_MEDIAN</th>\n",
       "      <th>GROUP2_INCOME_MEDIAN</th>\n",
       "      <th>GROUP2_CREDIT_TO_ANNUITY_MEDIAN</th>\n",
       "      <th>GROUP2_CREDIT_MEDIAN</th>\n",
       "      <th>GROUP2_ANNUITY_MEDIAN</th>\n",
       "    </tr>\n",
       "    <tr>\n",
       "      <th>SK_ID_CURR</th>\n",
       "      <th></th>\n",
       "      <th></th>\n",
       "      <th></th>\n",
       "      <th></th>\n",
       "      <th></th>\n",
       "      <th></th>\n",
       "      <th></th>\n",
       "      <th></th>\n",
       "      <th></th>\n",
       "      <th></th>\n",
       "      <th></th>\n",
       "      <th></th>\n",
       "      <th></th>\n",
       "      <th></th>\n",
       "      <th></th>\n",
       "      <th></th>\n",
       "      <th></th>\n",
       "      <th></th>\n",
       "      <th></th>\n",
       "      <th></th>\n",
       "      <th></th>\n",
       "    </tr>\n",
       "  </thead>\n",
       "  <tbody>\n",
       "    <tr>\n",
       "      <th>342387</th>\n",
       "      <td>0</td>\n",
       "      <td>1</td>\n",
       "      <td>0</td>\n",
       "      <td>0</td>\n",
       "      <td>162000.0</td>\n",
       "      <td>942300.0</td>\n",
       "      <td>0</td>\n",
       "      <td>0</td>\n",
       "      <td>3</td>\n",
       "      <td>0</td>\n",
       "      <td>...</td>\n",
       "      <td>4</td>\n",
       "      <td>5.816406</td>\n",
       "      <td>-8.562500</td>\n",
       "      <td>0.130737</td>\n",
       "      <td>6</td>\n",
       "      <td>0.529785</td>\n",
       "      <td>144000.0</td>\n",
       "      <td>34.000000</td>\n",
       "      <td>900693.0</td>\n",
       "      <td>27760.5</td>\n",
       "    </tr>\n",
       "    <tr>\n",
       "      <th>366497</th>\n",
       "      <td>0</td>\n",
       "      <td>1</td>\n",
       "      <td>0</td>\n",
       "      <td>0</td>\n",
       "      <td>189000.0</td>\n",
       "      <td>942300.0</td>\n",
       "      <td>3</td>\n",
       "      <td>1</td>\n",
       "      <td>0</td>\n",
       "      <td>0</td>\n",
       "      <td>...</td>\n",
       "      <td>4</td>\n",
       "      <td>4.984375</td>\n",
       "      <td>-8.320312</td>\n",
       "      <td>0.200439</td>\n",
       "      <td>6</td>\n",
       "      <td>0.588867</td>\n",
       "      <td>157500.0</td>\n",
       "      <td>32.843750</td>\n",
       "      <td>814041.0</td>\n",
       "      <td>26086.5</td>\n",
       "    </tr>\n",
       "    <tr>\n",
       "      <th>310036</th>\n",
       "      <td>0</td>\n",
       "      <td>0</td>\n",
       "      <td>0</td>\n",
       "      <td>0</td>\n",
       "      <td>315000.0</td>\n",
       "      <td>791595.0</td>\n",
       "      <td>0</td>\n",
       "      <td>0</td>\n",
       "      <td>1</td>\n",
       "      <td>0</td>\n",
       "      <td>...</td>\n",
       "      <td>3</td>\n",
       "      <td>2.513672</td>\n",
       "      <td>-20.343750</td>\n",
       "      <td>0.240356</td>\n",
       "      <td>4</td>\n",
       "      <td>0.487549</td>\n",
       "      <td>135000.0</td>\n",
       "      <td>20.000000</td>\n",
       "      <td>450000.0</td>\n",
       "      <td>22018.5</td>\n",
       "    </tr>\n",
       "    <tr>\n",
       "      <th>224943</th>\n",
       "      <td>0</td>\n",
       "      <td>0</td>\n",
       "      <td>1</td>\n",
       "      <td>0</td>\n",
       "      <td>157500.0</td>\n",
       "      <td>450000.0</td>\n",
       "      <td>0</td>\n",
       "      <td>0</td>\n",
       "      <td>1</td>\n",
       "      <td>0</td>\n",
       "      <td>...</td>\n",
       "      <td>1</td>\n",
       "      <td>2.857422</td>\n",
       "      <td>-17.062500</td>\n",
       "      <td>0.204834</td>\n",
       "      <td>4</td>\n",
       "      <td>0.487549</td>\n",
       "      <td>135000.0</td>\n",
       "      <td>20.000000</td>\n",
       "      <td>450000.0</td>\n",
       "      <td>22018.5</td>\n",
       "    </tr>\n",
       "    <tr>\n",
       "      <th>345128</th>\n",
       "      <td>0</td>\n",
       "      <td>0</td>\n",
       "      <td>1</td>\n",
       "      <td>2</td>\n",
       "      <td>247500.0</td>\n",
       "      <td>509400.0</td>\n",
       "      <td>2</td>\n",
       "      <td>0</td>\n",
       "      <td>1</td>\n",
       "      <td>0</td>\n",
       "      <td>...</td>\n",
       "      <td>3</td>\n",
       "      <td>2.058594</td>\n",
       "      <td>-16.515625</td>\n",
       "      <td>0.278076</td>\n",
       "      <td>3</td>\n",
       "      <td>0.500488</td>\n",
       "      <td>157500.0</td>\n",
       "      <td>14.710938</td>\n",
       "      <td>397881.0</td>\n",
       "      <td>27193.5</td>\n",
       "    </tr>\n",
       "  </tbody>\n",
       "</table>\n",
       "<p>5 rows × 41 columns</p>\n",
       "</div>"
      ],
      "text/plain": [
       "            NAME_CONTRACT_TYPE  CODE_GENDER  FLAG_OWN_CAR  CNT_CHILDREN  \\\n",
       "SK_ID_CURR                                                                \n",
       "342387                       0            1             0             0   \n",
       "366497                       0            1             0             0   \n",
       "310036                       0            0             0             0   \n",
       "224943                       0            0             1             0   \n",
       "345128                       0            0             1             2   \n",
       "\n",
       "            AMT_INCOME_TOTAL  AMT_CREDIT  NAME_INCOME_TYPE  \\\n",
       "SK_ID_CURR                                                   \n",
       "342387              162000.0    942300.0                 0   \n",
       "366497              189000.0    942300.0                 3   \n",
       "310036              315000.0    791595.0                 0   \n",
       "224943              157500.0    450000.0                 0   \n",
       "345128              247500.0    509400.0                 2   \n",
       "\n",
       "            NAME_EDUCATION_TYPE  NAME_FAMILY_STATUS  NAME_HOUSING_TYPE  ...  \\\n",
       "SK_ID_CURR                                                              ...   \n",
       "342387                        0                   3                  0  ...   \n",
       "366497                        1                   0                  0  ...   \n",
       "310036                        0                   1                  0  ...   \n",
       "224943                        0                   1                  0  ...   \n",
       "345128                        0                   1                  0  ...   \n",
       "\n",
       "            AGE_RANGE  CREDIT_TO_INCOME_RATIO  INCOME_TO_BIRTH_RATIO  \\\n",
       "SK_ID_CURR                                                             \n",
       "342387              4                5.816406              -8.562500   \n",
       "366497              4                4.984375              -8.320312   \n",
       "310036              3                2.513672             -20.343750   \n",
       "224943              1                2.857422             -17.062500   \n",
       "345128              3                2.058594             -16.515625   \n",
       "\n",
       "            ID_TO_BIRTH_RATIO  CREDIT_TO_ANNUITY_GROUP  \\\n",
       "SK_ID_CURR                                               \n",
       "342387               0.130737                        6   \n",
       "366497               0.200439                        6   \n",
       "310036               0.240356                        4   \n",
       "224943               0.204834                        4   \n",
       "345128               0.278076                        3   \n",
       "\n",
       "            GROUP2_EXT_SOURCES_MEDIAN  GROUP2_INCOME_MEDIAN  \\\n",
       "SK_ID_CURR                                                    \n",
       "342387                       0.529785              144000.0   \n",
       "366497                       0.588867              157500.0   \n",
       "310036                       0.487549              135000.0   \n",
       "224943                       0.487549              135000.0   \n",
       "345128                       0.500488              157500.0   \n",
       "\n",
       "            GROUP2_CREDIT_TO_ANNUITY_MEDIAN  GROUP2_CREDIT_MEDIAN  \\\n",
       "SK_ID_CURR                                                          \n",
       "342387                            34.000000              900693.0   \n",
       "366497                            32.843750              814041.0   \n",
       "310036                            20.000000              450000.0   \n",
       "224943                            20.000000              450000.0   \n",
       "345128                            14.710938              397881.0   \n",
       "\n",
       "            GROUP2_ANNUITY_MEDIAN  \n",
       "SK_ID_CURR                         \n",
       "342387                    27760.5  \n",
       "366497                    26086.5  \n",
       "310036                    22018.5  \n",
       "224943                    22018.5  \n",
       "345128                    27193.5  \n",
       "\n",
       "[5 rows x 41 columns]"
      ]
     },
     "metadata": {},
     "output_type": "display_data"
    },
    {
     "data": {
      "text/plain": [
       "SK_ID_CURR\n",
       "342387    0.0\n",
       "366497    0.0\n",
       "310036    0.0\n",
       "224943    0.0\n",
       "345128    0.0\n",
       "Name: TARGET, dtype: float16"
      ]
     },
     "metadata": {},
     "output_type": "display_data"
    }
   ],
   "source": [
    "# down-sample\n",
    "X = X.sample(n_indiv)\n",
    "y = y.loc[X.index]\n",
    "\n",
    "display(X.head())\n",
    "display(y.head())"
   ]
  },
  {
   "cell_type": "code",
   "execution_count": 7,
   "metadata": {},
   "outputs": [
    {
     "data": {
      "text/plain": [
       "TARGET\n",
       "0.0    4560\n",
       "1.0     440\n",
       "Name: count, dtype: int64"
      ]
     },
     "execution_count": 7,
     "metadata": {},
     "output_type": "execute_result"
    }
   ],
   "source": [
    "# check imbalance mostly preserved\n",
    "y.value_counts()"
   ]
  },
  {
   "cell_type": "code",
   "execution_count": 8,
   "metadata": {},
   "outputs": [
    {
     "data": {
      "text/plain": [
       "(5000, 41)"
      ]
     },
     "execution_count": 8,
     "metadata": {},
     "output_type": "execute_result"
    }
   ],
   "source": [
    "X_no_nan = X.dropna(axis=1)\n",
    "X_no_nan.shape"
   ]
  },
  {
   "cell_type": "markdown",
   "metadata": {},
   "source": [
    "Dropping all columns with nulls is losing a consequent part of information.\n",
    "Imputation will probably be required for some models."
   ]
  },
  {
   "cell_type": "code",
   "execution_count": 9,
   "metadata": {},
   "outputs": [
    {
     "data": {
      "text/html": [
       "<div>\n",
       "<style scoped>\n",
       "    .dataframe tbody tr th:only-of-type {\n",
       "        vertical-align: middle;\n",
       "    }\n",
       "\n",
       "    .dataframe tbody tr th {\n",
       "        vertical-align: top;\n",
       "    }\n",
       "\n",
       "    .dataframe thead th {\n",
       "        text-align: right;\n",
       "    }\n",
       "</style>\n",
       "<table border=\"1\" class=\"dataframe\">\n",
       "  <thead>\n",
       "    <tr style=\"text-align: right;\">\n",
       "      <th></th>\n",
       "      <th>NAME_CONTRACT_TYPE</th>\n",
       "      <th>CODE_GENDER</th>\n",
       "      <th>FLAG_OWN_CAR</th>\n",
       "      <th>CNT_CHILDREN</th>\n",
       "      <th>AMT_INCOME_TOTAL</th>\n",
       "      <th>AMT_CREDIT</th>\n",
       "      <th>NAME_INCOME_TYPE</th>\n",
       "      <th>NAME_EDUCATION_TYPE</th>\n",
       "      <th>NAME_FAMILY_STATUS</th>\n",
       "      <th>NAME_HOUSING_TYPE</th>\n",
       "      <th>...</th>\n",
       "      <th>AGE_RANGE</th>\n",
       "      <th>CREDIT_TO_INCOME_RATIO</th>\n",
       "      <th>INCOME_TO_BIRTH_RATIO</th>\n",
       "      <th>ID_TO_BIRTH_RATIO</th>\n",
       "      <th>CREDIT_TO_ANNUITY_GROUP</th>\n",
       "      <th>GROUP2_EXT_SOURCES_MEDIAN</th>\n",
       "      <th>GROUP2_INCOME_MEDIAN</th>\n",
       "      <th>GROUP2_CREDIT_TO_ANNUITY_MEDIAN</th>\n",
       "      <th>GROUP2_CREDIT_MEDIAN</th>\n",
       "      <th>GROUP2_ANNUITY_MEDIAN</th>\n",
       "    </tr>\n",
       "    <tr>\n",
       "      <th>SK_ID_CURR</th>\n",
       "      <th></th>\n",
       "      <th></th>\n",
       "      <th></th>\n",
       "      <th></th>\n",
       "      <th></th>\n",
       "      <th></th>\n",
       "      <th></th>\n",
       "      <th></th>\n",
       "      <th></th>\n",
       "      <th></th>\n",
       "      <th></th>\n",
       "      <th></th>\n",
       "      <th></th>\n",
       "      <th></th>\n",
       "      <th></th>\n",
       "      <th></th>\n",
       "      <th></th>\n",
       "      <th></th>\n",
       "      <th></th>\n",
       "      <th></th>\n",
       "      <th></th>\n",
       "    </tr>\n",
       "  </thead>\n",
       "  <tbody>\n",
       "    <tr>\n",
       "      <th>342387</th>\n",
       "      <td>0</td>\n",
       "      <td>1</td>\n",
       "      <td>0</td>\n",
       "      <td>0</td>\n",
       "      <td>162000.0</td>\n",
       "      <td>942300.0</td>\n",
       "      <td>0</td>\n",
       "      <td>0</td>\n",
       "      <td>3</td>\n",
       "      <td>0</td>\n",
       "      <td>...</td>\n",
       "      <td>4</td>\n",
       "      <td>5.816406</td>\n",
       "      <td>-8.562500</td>\n",
       "      <td>0.130737</td>\n",
       "      <td>6</td>\n",
       "      <td>0.529785</td>\n",
       "      <td>144000.0</td>\n",
       "      <td>34.000000</td>\n",
       "      <td>900693.0</td>\n",
       "      <td>27760.5</td>\n",
       "    </tr>\n",
       "    <tr>\n",
       "      <th>366497</th>\n",
       "      <td>0</td>\n",
       "      <td>1</td>\n",
       "      <td>0</td>\n",
       "      <td>0</td>\n",
       "      <td>189000.0</td>\n",
       "      <td>942300.0</td>\n",
       "      <td>3</td>\n",
       "      <td>1</td>\n",
       "      <td>0</td>\n",
       "      <td>0</td>\n",
       "      <td>...</td>\n",
       "      <td>4</td>\n",
       "      <td>4.984375</td>\n",
       "      <td>-8.320312</td>\n",
       "      <td>0.200439</td>\n",
       "      <td>6</td>\n",
       "      <td>0.588867</td>\n",
       "      <td>157500.0</td>\n",
       "      <td>32.843750</td>\n",
       "      <td>814041.0</td>\n",
       "      <td>26086.5</td>\n",
       "    </tr>\n",
       "    <tr>\n",
       "      <th>310036</th>\n",
       "      <td>0</td>\n",
       "      <td>0</td>\n",
       "      <td>0</td>\n",
       "      <td>0</td>\n",
       "      <td>315000.0</td>\n",
       "      <td>791595.0</td>\n",
       "      <td>0</td>\n",
       "      <td>0</td>\n",
       "      <td>1</td>\n",
       "      <td>0</td>\n",
       "      <td>...</td>\n",
       "      <td>3</td>\n",
       "      <td>2.513672</td>\n",
       "      <td>-20.343750</td>\n",
       "      <td>0.240356</td>\n",
       "      <td>4</td>\n",
       "      <td>0.487549</td>\n",
       "      <td>135000.0</td>\n",
       "      <td>20.000000</td>\n",
       "      <td>450000.0</td>\n",
       "      <td>22018.5</td>\n",
       "    </tr>\n",
       "    <tr>\n",
       "      <th>224943</th>\n",
       "      <td>0</td>\n",
       "      <td>0</td>\n",
       "      <td>1</td>\n",
       "      <td>0</td>\n",
       "      <td>157500.0</td>\n",
       "      <td>450000.0</td>\n",
       "      <td>0</td>\n",
       "      <td>0</td>\n",
       "      <td>1</td>\n",
       "      <td>0</td>\n",
       "      <td>...</td>\n",
       "      <td>1</td>\n",
       "      <td>2.857422</td>\n",
       "      <td>-17.062500</td>\n",
       "      <td>0.204834</td>\n",
       "      <td>4</td>\n",
       "      <td>0.487549</td>\n",
       "      <td>135000.0</td>\n",
       "      <td>20.000000</td>\n",
       "      <td>450000.0</td>\n",
       "      <td>22018.5</td>\n",
       "    </tr>\n",
       "    <tr>\n",
       "      <th>345128</th>\n",
       "      <td>0</td>\n",
       "      <td>0</td>\n",
       "      <td>1</td>\n",
       "      <td>2</td>\n",
       "      <td>247500.0</td>\n",
       "      <td>509400.0</td>\n",
       "      <td>2</td>\n",
       "      <td>0</td>\n",
       "      <td>1</td>\n",
       "      <td>0</td>\n",
       "      <td>...</td>\n",
       "      <td>3</td>\n",
       "      <td>2.058594</td>\n",
       "      <td>-16.515625</td>\n",
       "      <td>0.278076</td>\n",
       "      <td>3</td>\n",
       "      <td>0.500488</td>\n",
       "      <td>157500.0</td>\n",
       "      <td>14.710938</td>\n",
       "      <td>397881.0</td>\n",
       "      <td>27193.5</td>\n",
       "    </tr>\n",
       "  </tbody>\n",
       "</table>\n",
       "<p>5 rows × 41 columns</p>\n",
       "</div>"
      ],
      "text/plain": [
       "            NAME_CONTRACT_TYPE  CODE_GENDER  FLAG_OWN_CAR  CNT_CHILDREN  \\\n",
       "SK_ID_CURR                                                                \n",
       "342387                       0            1             0             0   \n",
       "366497                       0            1             0             0   \n",
       "310036                       0            0             0             0   \n",
       "224943                       0            0             1             0   \n",
       "345128                       0            0             1             2   \n",
       "\n",
       "            AMT_INCOME_TOTAL  AMT_CREDIT  NAME_INCOME_TYPE  \\\n",
       "SK_ID_CURR                                                   \n",
       "342387              162000.0    942300.0                 0   \n",
       "366497              189000.0    942300.0                 3   \n",
       "310036              315000.0    791595.0                 0   \n",
       "224943              157500.0    450000.0                 0   \n",
       "345128              247500.0    509400.0                 2   \n",
       "\n",
       "            NAME_EDUCATION_TYPE  NAME_FAMILY_STATUS  NAME_HOUSING_TYPE  ...  \\\n",
       "SK_ID_CURR                                                              ...   \n",
       "342387                        0                   3                  0  ...   \n",
       "366497                        1                   0                  0  ...   \n",
       "310036                        0                   1                  0  ...   \n",
       "224943                        0                   1                  0  ...   \n",
       "345128                        0                   1                  0  ...   \n",
       "\n",
       "            AGE_RANGE  CREDIT_TO_INCOME_RATIO  INCOME_TO_BIRTH_RATIO  \\\n",
       "SK_ID_CURR                                                             \n",
       "342387              4                5.816406              -8.562500   \n",
       "366497              4                4.984375              -8.320312   \n",
       "310036              3                2.513672             -20.343750   \n",
       "224943              1                2.857422             -17.062500   \n",
       "345128              3                2.058594             -16.515625   \n",
       "\n",
       "            ID_TO_BIRTH_RATIO  CREDIT_TO_ANNUITY_GROUP  \\\n",
       "SK_ID_CURR                                               \n",
       "342387               0.130737                        6   \n",
       "366497               0.200439                        6   \n",
       "310036               0.240356                        4   \n",
       "224943               0.204834                        4   \n",
       "345128               0.278076                        3   \n",
       "\n",
       "            GROUP2_EXT_SOURCES_MEDIAN  GROUP2_INCOME_MEDIAN  \\\n",
       "SK_ID_CURR                                                    \n",
       "342387                       0.529785              144000.0   \n",
       "366497                       0.588867              157500.0   \n",
       "310036                       0.487549              135000.0   \n",
       "224943                       0.487549              135000.0   \n",
       "345128                       0.500488              157500.0   \n",
       "\n",
       "            GROUP2_CREDIT_TO_ANNUITY_MEDIAN  GROUP2_CREDIT_MEDIAN  \\\n",
       "SK_ID_CURR                                                          \n",
       "342387                            34.000000              900693.0   \n",
       "366497                            32.843750              814041.0   \n",
       "310036                            20.000000              450000.0   \n",
       "224943                            20.000000              450000.0   \n",
       "345128                            14.710938              397881.0   \n",
       "\n",
       "            GROUP2_ANNUITY_MEDIAN  \n",
       "SK_ID_CURR                         \n",
       "342387                    27760.5  \n",
       "366497                    26086.5  \n",
       "310036                    22018.5  \n",
       "224943                    22018.5  \n",
       "345128                    27193.5  \n",
       "\n",
       "[5 rows x 41 columns]"
      ]
     },
     "execution_count": 9,
     "metadata": {},
     "output_type": "execute_result"
    }
   ],
   "source": [
    "X_no_nan.head()"
   ]
  },
  {
   "cell_type": "code",
   "execution_count": 10,
   "metadata": {},
   "outputs": [
    {
     "data": {
      "text/plain": [
       "SK_ID_CURR\n",
       "342387    0.0\n",
       "366497    0.0\n",
       "310036    0.0\n",
       "224943    0.0\n",
       "345128    0.0\n",
       "Name: TARGET, dtype: float16"
      ]
     },
     "execution_count": 10,
     "metadata": {},
     "output_type": "execute_result"
    }
   ],
   "source": [
    "y.head()"
   ]
  },
  {
   "cell_type": "markdown",
   "metadata": {},
   "source": [
    "# 2.  [&#9650;](#toc0_) <a id='toc2_'></a>Plotting individuals in the income/credit plan"
   ]
  },
  {
   "cell_type": "code",
   "execution_count": 11,
   "metadata": {},
   "outputs": [],
   "source": [
    "def display_2d_with_illustrative_var(\n",
    "    X,\n",
    "    ax=None,\n",
    "    figsize=(7,7),\n",
    "    illustrative_var=None,\n",
    "    alpha=0.7,\n",
    "    palette=None,\n",
    "    title=None,\n",
    "):\n",
    "    \"\"\" Display points in a plan with color for each class of illustrative var.\n",
    "\n",
    "    X : dataframe with 2 cols (x, y)\n",
    "    illustrative_var : list of length len(X) containing classes.\n",
    "    \"\"\"\n",
    "    # Boolean which automates plt.show() if no ax is provided.\n",
    "    final_plot = False\n",
    "    if ax is None:\n",
    "        fig, ax= plt.subplots(figsize=figsize)\n",
    "        final_plot = True\n",
    "\n",
    "    # Display the points\n",
    "    if illustrative_var is None:\n",
    "        ax.scatter(X[:, 0], X[:, 1], s=10, alpha=alpha)\n",
    "    else:\n",
    "        illustrative_var = np.array(illustrative_var)\n",
    "        illustrative_values = np.unique(illustrative_var)\n",
    "        n_val = len(illustrative_values)\n",
    "        if palette is None:\n",
    "            palette = sns.color_palette(cc.glasbey, n_val)\n",
    "        # Plot reversely to see most frequent on top.\n",
    "        for n, value in enumerate(illustrative_values):\n",
    "            selected = np.where(illustrative_var == value)\n",
    "            ax.scatter(\n",
    "                X[selected, 0], X[selected, 1],\n",
    "                alpha=alpha, label=value, color=palette[n_val - 1 - n],\n",
    "                s=10\n",
    "            )\n",
    "        # ax.set_axis_off()\n",
    "        if title is not None:\n",
    "            ax.set_title(title)\n",
    "        ax.legend(bbox_to_anchor=(1.05, 1),\n",
    "                    loc='upper left',\n",
    "                    borderaxespad=0.,\n",
    "                    fontsize=10)\n",
    "        \n",
    "        if final_plot:\n",
    "            plt.show()\n",
    "    return None"
   ]
  },
  {
   "cell_type": "code",
   "execution_count": 12,
   "metadata": {},
   "outputs": [
    {
     "data": {
      "image/png": "[encoded data removed]",
      "text/plain": [
       "<Figure size 700x700 with 1 Axes>"
      ]
     },
     "metadata": {},
     "output_type": "display_data"
    }
   ],
   "source": [
    "sel_fts = ['AMT_INCOME_TOTAL', 'AMT_CREDIT']\n",
    "display_2d_with_illustrative_var(\n",
    "    X_no_nan.loc[:, sel_fts].values,\n",
    "    illustrative_var=y.values,\n",
    "    title='Sampled individuals in the income/credit plan'\n",
    ")\n",
    "\n"
   ]
  },
  {
   "cell_type": "markdown",
   "metadata": {},
   "source": [
    "Although no visual difference strikes, it will help to illustrate the impact of imbalance class processing."
   ]
  },
  {
   "cell_type": "markdown",
   "metadata": {},
   "source": [
    "# 3.  [&#9650;](#toc0_) <a id='toc3_'></a>Addressing the class imbalance : under/oversampling & SMOTE"
   ]
  },
  {
   "cell_type": "markdown",
   "metadata": {},
   "source": [
    "SMOTE main advantage : Help decreasing over-fitting while introducing synthetic individuals with some kind of interpolation .\n",
    "\n",
    "Sources :\n",
    "- [to understand SMOTE algorithm](https://kobia.fr/imbalanced-data-smote/)\n",
    "- [some examples and tips](https://machinelearningmastery.com/smote-oversampling-for-imbalanced-classification/).\n",
    "\n",
    " It is pointed out that the original paper on SMOTE suggests combining SMOTE with random undersampling of the majority class.\n",
    "\n",
    "Important things:\n",
    "- SMOTE must not be applied on encoded categorical variables (which we have)\n",
    "- SMOTE must not be applied on test and validation set (Evaluation would be unrealistic)\n",
    "- SMOTE works better after feature normalization (because based on distances)\n",
    "- SMOTE need hyperparameter tuning (because synthetic individuals can be wrongly introduced depending on the minority distribution)\n",
    "- if SMOTE is applied on discrete features, the algorithm will introduce new intermediate values that must then be mapped to the original values.\n",
    "\n",
    "Conclusion :\n",
    "\n",
    "It will be interesting to apply that in the final model, but it needs to be done carefully and it will take some time. I'd rather start with a simple under/oversampling of classes first, run some models to assess feature importance and, then only prepare those features to be SMOTE-processed."
   ]
  },
  {
   "cell_type": "code",
   "execution_count": 23,
   "metadata": {},
   "outputs": [],
   "source": [
    "# create some minority synthetic individuals to yield a rate indicated in sampling_strategy\n",
    "over = SMOTE(k_neighbors=5, sampling_strategy=0.4)\n",
    "# downsample the majority class to something more balanced\n",
    "under = RandomUnderSampler(sampling_strategy=0.7)\n",
    "steps = [('o', over), ('u', under)]\n",
    "pipeline = Pipeline(steps=steps)\n",
    "X_resample, y_resample = pipeline.fit_resample(X_no_nan, y)"
   ]
  },
  {
   "cell_type": "code",
   "execution_count": 18,
   "metadata": {},
   "outputs": [
    {
     "data": {
      "text/plain": [
       "(4429, 41)"
      ]
     },
     "execution_count": 18,
     "metadata": {},
     "output_type": "execute_result"
    }
   ],
   "source": [
    "X_resample.shape"
   ]
  },
  {
   "cell_type": "code",
   "execution_count": 22,
   "metadata": {},
   "outputs": [
    {
     "data": {
      "text/plain": [
       "TARGET\n",
       "0.0    58.816889\n",
       "1.0    41.183111\n",
       "Name: count, dtype: float64"
      ]
     },
     "execution_count": 22,
     "metadata": {},
     "output_type": "execute_result"
    }
   ],
   "source": [
    "# Resample percentages\n",
    "y_resample.value_counts()* 100/len(y_resample)"
   ]
  },
  {
   "cell_type": "code",
   "execution_count": 20,
   "metadata": {},
   "outputs": [
    {
     "data": {
      "image/png": "[encoded data removed]",
      "text/plain": [
       "<Figure size 700x700 with 1 Axes>"
      ]
     },
     "metadata": {},
     "output_type": "display_data"
    }
   ],
   "source": [
    "display_2d_with_illustrative_var(\n",
    "    X_resample.loc[:, sel_fts].values,\n",
    "    illustrative_var=y_resample.values,\n",
    "    title='REsampled individuals in the income/credit plan'\n",
    ")"
   ]
  },
  {
   "cell_type": "markdown",
   "metadata": {},
   "source": [
    "We yield a much more balanced dataset and synthetic individuals looks natural in that plan. We have a bit less individuals in total but the percentage of the minority class is now closer to 50%. The proportions chosen when up or down sampling certain class will help the classification algorithm to detect properly the minority class. I will have to tune it alongside with the number of neighbors used by SMOTE.\n",
    "\n",
    "Note that categorical features can be processed with SMOTE-NC"
   ]
  },
  {
   "cell_type": "markdown",
   "metadata": {},
   "source": [
    "# 4.  [&#9650;](#toc0_) <a id='toc4_'></a>Feature selection"
   ]
  },
  {
   "cell_type": "markdown",
   "metadata": {},
   "source": [
    "A wide variety of feature selection algorithm exist.\n",
    "- univariate statistic between each input and the output.\n",
    "- evaluation of correlation between inputs (to avoid colinearity problems)\n",
    "- intrinsic selection (some models such as lasso, or decision trees naturally perform feature selection).\n",
    "\n",
    "Here, is a table showing how to compute statistics between variable types.\n",
    "\n",
    "\n",
    "<img src=\"../notebook_images/statistics_table.png\" width=600 />"
   ]
  },
  {
   "cell_type": "markdown",
   "metadata": {},
   "source": [
    "## Intrinsic : With LightGBM feature importance"
   ]
  },
  {
   "cell_type": "markdown",
   "metadata": {},
   "source": [
    "It is the model used in the kernel I used for feature extraction. Thus, features are already well prepared to go inside the model. And It can handle missing values with internal mechanism.\n",
    "\n",
    "A note from the [documentation](https://lightgbm.readthedocs.io/en/stable/Python-Intro.html):\n",
    "- LightGBM can use categorical features as input directly. It doesn’t need to convert to one-hot encoding, and is much faster than one-hot encoding (about 8x speed-up).\n",
    "Note: You should convert your categorical features to int type before you construct Dataset.\n"
   ]
  },
  {
   "cell_type": "code",
   "execution_count": 9,
   "metadata": {},
   "outputs": [
    {
     "name": "stdout",
     "output_type": "stream",
     "text": [
      "Data shape: (307506, 735), target shape: (307506,)\n"
     ]
    }
   ],
   "source": [
    "# Get the features and target of individuals with a target.\n",
    "X, y = utils.prepare_data(config.FEATURE_PATH, drop_INF=False, drop_NAN=False)"
   ]
  },
  {
   "cell_type": "code",
   "execution_count": 10,
   "metadata": {},
   "outputs": [
    {
     "name": "stdout",
     "output_type": "stream",
     "text": [
      "Train shapes : (246004, 735), (246004,)\n",
      "Test shapes : (61502, 735), (61502,)\n"
     ]
    }
   ],
   "source": [
    "# Merge, split in train/test sets, extract targets.\n",
    "# I will CV on the set so no need for a validation set\n",
    "data = X.merge(y, on='SK_ID_CURR')\n",
    "train_df, test_df = train_test_split(\n",
    "    data,\n",
    "    test_size=0.2,\n",
    "    random_state=config.RANDOM_SEED,\n",
    "    stratify=data.TARGET\n",
    ")\n",
    "\n",
    "y_train = train_df.pop('TARGET')\n",
    "y_test = test_df.pop('TARGET')\n",
    "\n",
    "print(\n",
    "    f\"Train shapes : {train_df.shape}, {y_train.shape}\\n\"\n",
    "    + f\"Test shapes : {test_df.shape}, {y_test.shape}\"\n",
    ")"
   ]
  },
  {
   "cell_type": "code",
   "execution_count": 14,
   "metadata": {},
   "outputs": [
    {
     "name": "stdout",
     "output_type": "stream",
     "text": [
      "In the train set:\n"
     ]
    },
    {
     "data": {
      "text/plain": [
       "TARGET\n",
       "0.0    91.927367\n",
       "1.0     8.072633\n",
       "Name: count, dtype: float64"
      ]
     },
     "metadata": {},
     "output_type": "display_data"
    },
    {
     "name": "stdout",
     "output_type": "stream",
     "text": [
      "In the test set:\n"
     ]
    },
    {
     "data": {
      "text/plain": [
       "TARGET\n",
       "0.0    91.927092\n",
       "1.0     8.072908\n",
       "Name: count, dtype: float64"
      ]
     },
     "metadata": {},
     "output_type": "display_data"
    }
   ],
   "source": [
    "# Check stratified splits work correctly\n",
    "def class_percentages(target):\n",
    "    display(target.value_counts() * 100 / len(target))\n",
    "    return None\n",
    "\n",
    "for y_ in ['y_train', 'y_test']:\n",
    "    print(f'In the {y_.removeprefix(\"y_\")} set:')\n",
    "    class_percentages(eval(y_))\n",
    "    "
   ]
  },
  {
   "cell_type": "code",
   "execution_count": 18,
   "metadata": {},
   "outputs": [],
   "source": [
    "# define LightGBM configuration\n",
    "LIGHTGBM_PARAMS = {\n",
    "    'boosting_type': 'goss',\n",
    "    'objective': 'binary',\n",
    "    'n_estimators': 10000,\n",
    "    'learning_rate': 0.005,\n",
    "    'num_leaves': 30,\n",
    "    'max_depth': 10,\n",
    "    # 'subsample_for_bin': 240000,\n",
    "    'reg_alpha': 0.5,\n",
    "    'reg_lambda': 0.5,\n",
    "    'colsample_bytree': 0.5,\n",
    "    # 'min_split_gain': 0.02,\n",
    "    'subsample': 1,\n",
    "    # 'is_unbalance': True, <-- no need if taken care with sampling\n",
    "    # 'silent':1,\n",
    "    # 'verbose':1\n",
    "}\n",
    "\n",
    "# List categorical features for LightGBM partitioning mechanism (Fisher 1958)\n",
    "categorical_feature = [\n",
    "    'CODE_GENDER', 'FLAG_OWN_CAR', 'NAME_CONTRACT_TYPE',\n",
    "    'NAME_EDUCATION_TYPE', 'NAME_FAMILY_STATUS', 'NAME_HOUSING_TYPE',\n",
    "    'NAME_INCOME_TYPE', 'OCCUPATION_TYPE', 'ORGANIZATION_TYPE',\n",
    "    'WEEKDAY_APPR_PROCESS_START'\n",
    "]\n",
    "\n",
    "\n",
    "clf = LGBMClassifier(**LIGHTGBM_PARAMS)\n"
   ]
  },
  {
   "cell_type": "code",
   "execution_count": 16,
   "metadata": {},
   "outputs": [],
   "source": [
    "# Define imblearn pipeline to be used on the training folds of the CV\n",
    "# without SMOTE because it would be to much of a chore on 7xx features\n",
    "over = RandomOverSampler(sampling_strategy=0.5)\n",
    "under = RandomUnderSampler(sampling_strategy=0.8)\n",
    "steps = [('o', over), ('u', under)]\n",
    "resample_pipe = Pipeline(steps=steps)"
   ]
  },
  {
   "cell_type": "code",
   "execution_count": null,
   "metadata": {},
   "outputs": [],
   "source": [
    "# An example of a custom metric close to the one I'd like\n",
    "def evaluate_macroF1_lgb(truth, predictions):  \n",
    "    # this follows the discussion in https://github.com/Microsoft/LightGBM/issues/1483\n",
    "    pred_labels = predictions.reshape(len(np.unique(truth)),-1).argmax(axis=0)\n",
    "    f1 = f1_score(truth, pred_labels, average='macro')\n",
    "    return ('macroF1', f1, True) "
   ]
  },
  {
   "cell_type": "code",
   "execution_count": 21,
   "metadata": {},
   "outputs": [
    {
     "name": "stdout",
     "output_type": "stream",
     "text": [
      "\n",
      "\n",
      "##############################\n",
      " split 1\n",
      "end making folds\n",
      "\n",
      " Class percentage in the training folds\n"
     ]
    },
    {
     "data": {
      "text/plain": [
       "TARGET\n",
       "0.0    55.555446\n",
       "1.0    44.444554\n",
       "Name: count, dtype: float64"
      ]
     },
     "metadata": {},
     "output_type": "display_data"
    },
    {
     "name": "stdout",
     "output_type": "stream",
     "text": [
      "\n",
      " Class percentage in the validation fold\n"
     ]
    },
    {
     "data": {
      "text/plain": [
       "TARGET\n",
       "0.0    91.926993\n",
       "1.0     8.073007\n",
       "Name: count, dtype: float64"
      ]
     },
     "metadata": {},
     "output_type": "display_data"
    },
    {
     "ename": "TypeError",
     "evalue": "LGBMClassifier.fit() got an unexpected keyword argument 'early_stopping_rounds'",
     "output_type": "error",
     "traceback": [
      "\u001b[0;31m---------------------------------------------------------------------------\u001b[0m",
      "\u001b[0;31mTypeError\u001b[0m                                 Traceback (most recent call last)",
      "Cell \u001b[0;32mIn[21], line 29\u001b[0m\n\u001b[1;32m     26\u001b[0m class_percentages(valid_y)\n\u001b[1;32m     28\u001b[0m \u001b[39m# Fit the classifier on the resample training set.\u001b[39;00m\n\u001b[0;32m---> 29\u001b[0m clf\u001b[39m.\u001b[39;49mfit(\n\u001b[1;32m     30\u001b[0m     train_x_resample, train_y_resample,\n\u001b[1;32m     31\u001b[0m     eval_set\u001b[39m=\u001b[39;49m[(train_x, train_y), (valid_x, valid_y)],\n\u001b[1;32m     32\u001b[0m     eval_metric\u001b[39m=\u001b[39;49m\u001b[39m'\u001b[39;49m\u001b[39mauc\u001b[39;49m\u001b[39m'\u001b[39;49m,\n\u001b[1;32m     33\u001b[0m     early_stopping_rounds\u001b[39m=\u001b[39;49m\u001b[39m300\u001b[39;49m,\n\u001b[1;32m     34\u001b[0m     categorical_feature\u001b[39m=\u001b[39;49mcategorical_feature\n\u001b[1;32m     35\u001b[0m )\n\u001b[1;32m     37\u001b[0m best_iter \u001b[39m=\u001b[39m clf\u001b[39m.\u001b[39mbest_iteration_\n\u001b[1;32m     38\u001b[0m \u001b[39m# Partially filling oof_preds\u001b[39;00m\n",
      "\u001b[0;31mTypeError\u001b[0m: LGBMClassifier.fit() got an unexpected keyword argument 'early_stopping_rounds'"
     ]
    }
   ],
   "source": [
    "# Define folds\n",
    "folds = StratifiedKFold(\n",
    "    n_splits=config.NUM_FOLDS,\n",
    "    shuffle=True,\n",
    "    random_state=config.RANDOM_SEED\n",
    ")\n",
    "\n",
    "# Array to receive, per split, prediction of the validation set (out of fold).\n",
    "oof_preds = np.zeros(train_df.shape[0])\n",
    "# Some other variables to hold results.\n",
    "sub_preds = np.zeros(test_df.shape[0])\n",
    "importance_df = pd.DataFrame()\n",
    "auc_df = dict()\n",
    "\n",
    "for n_fold, (train_idx, valid_idx) in enumerate(folds.split(train_df, y_train)):\n",
    "    print(f\"\\n\\n##############################\\n split {n_fold + 1}\")\n",
    "    train_x, train_y = train_df.iloc[train_idx], y_train.iloc[train_idx]\n",
    "    valid_x, valid_y = train_df.iloc[valid_idx], y_train.iloc[valid_idx]\n",
    "    print(\"end making folds\")\n",
    "    \n",
    "    # Resample the train set and check the balance\n",
    "    train_x_resample, train_y_resample = resample_pipe.fit_resample(train_x, train_y)\n",
    "    print(\"\\n Class percentage in the training folds\")\n",
    "    class_percentages(train_y_resample)\n",
    "    print(\"\\n Class percentage in the validation fold\")\n",
    "    class_percentages(valid_y)\n",
    "    \n",
    "    # Fit the classifier on the resample training set.\n",
    "    clf.fit(\n",
    "        train_x_resample, train_y_resample,\n",
    "        eval_set=[(train_x, train_y), (valid_x, valid_y)],\n",
    "        eval_metric='auc',\n",
    "        early_stopping_rounds=300,\n",
    "        categorical_feature=categorical_feature\n",
    "    )\n",
    "\n",
    "    best_iter = clf.best_iteration_\n",
    "    # Partially filling oof_preds\n",
    "    oof_preds[valid_idx] = clf.predict_proba(\n",
    "        valid_x,\n",
    "        num_iteration=best_iter\n",
    "    )[:, 1]\n",
    "    # Progressively compute the mean prediction on the test set\n",
    "    sub_preds += clf.predict_proba(\n",
    "        test_df,\n",
    "        num_iteration=best_iter\n",
    "    )[:, 1] / folds.n_splits\n",
    "\n",
    "    # Feature importance by GAIN and SPLIT\n",
    "    fold_importance = pd.DataFrame()\n",
    "    fold_importance[\"feature\"] = train_df.columns\n",
    "    fold_importance[\"gain\"] = (\n",
    "        clf.booster_.feature_importance(importance_type='gain')\n",
    "    )\n",
    "    fold_importance[\"split\"] = (\n",
    "        clf.booster_.feature_importance(importance_type='split')\n",
    "    )\n",
    "    importance_df = pd.concat([importance_df, fold_importance], axis=0)\n",
    "    \n",
    "    # Save metric value for each iteration in train and validation sets\n",
    "    auc_df['train_{}'.format(n_fold+1)]  = clf.evals_result_['training']['auc']\n",
    "    auc_df['valid_{}'.format(n_fold + 1)] = clf.evals_result_['valid_1']['auc']\n",
    "\n",
    "    print(\n",
    "        'Fold %2d AUC : %.4f'\n",
    "        % (\n",
    "            n_fold + 1,\n",
    "            roc_auc_score(valid_y, oof_preds[valid_idx])\n",
    "        )\n",
    "    )\n",
    "    \n",
    "    del clf, train_x, train_y, valid_x, valid_y\n",
    "    gc.collect()\n",
    "\n",
    "#End CV loop\n",
    "\n",
    "print('Full AUC score %.6f' % roc_auc_score(y_train, oof_preds))\n",
    "test_df['TARGET'] = sub_preds.copy()\n",
    "\n",
    "# Get the average feature importance between folds\n",
    "mean_importance = importance_df.groupby('feature').mean().reset_index()\n",
    "mean_importance.sort_values(by='gain', ascending=False, inplace=True)\n",
    "# Save feature importance, test predictions and oof predictions as csv\n",
    "# if config.GENERATE_SUBMISSION_FILES:\n",
    "#     # Generate oof csv\n",
    "#     oof = pd.DataFrame()\n",
    "#     oof['SK_ID_CURR'] = df['SK_ID_CURR'].copy()\n",
    "#     oof['PREDICTIONS'] = oof_preds.copy()\n",
    "#     oof['TARGET'] = df['TARGET'].copy()\n",
    "#     file_name = 'oof{}.csv'.format(config.SUBMISSION_SUFIX)\n",
    "#     oof.to_csv(os.path.join(config.SUBMISSION_DIRECTORY, file_name), index=False)\n",
    "\n",
    "#     # Submission and feature importance csv\n",
    "#     sub_path = os.path.join(config.SUBMISSION_DIRECTORY,'submission{}.csv'.format(config.SUBMISSION_SUFIX))\n",
    "#     test[['SK_ID_CURR', 'TARGET']].to_csv(sub_path, index=False)\n",
    "#     imp_path = os.path.join(config.SUBMISSION_DIRECTORY,'feature_importance{}.csv'.format(config.SUBMISSION_SUFIX))\n",
    "#     mean_importance.to_csv(imp_path, index=False)\n"
   ]
  },
  {
   "cell_type": "code",
   "execution_count": null,
   "metadata": {},
   "outputs": [],
   "source": []
  },
  {
   "cell_type": "code",
   "execution_count": null,
   "metadata": {},
   "outputs": [],
   "source": []
  },
  {
   "cell_type": "code",
   "execution_count": null,
   "metadata": {},
   "outputs": [],
   "source": [
    "\n",
    " \n",
    "X = X .fillna(0)\n",
    "\n",
    "lr = LogisticRegression() \n",
    "lr = lr.fit(X, y)\n",
    "proba = lr.predict_proba(X)\n",
    "\n",
    "print(proba[:100])    "
   ]
  }
 ],
 "metadata": {
  "kernelspec": {
   "display_name": "p7",
   "language": "python",
   "name": "python3"
  },
  "language_info": {
   "codemirror_mode": {
    "name": "ipython",
    "version": 3
   },
   "file_extension": ".py",
   "mimetype": "text/x-python",
   "name": "python",
   "nbconvert_exporter": "python",
   "pygments_lexer": "ipython3",
   "version": "3.11.4"
  },
  "orig_nbformat": 4
 },
 "nbformat": 4,
 "nbformat_minor": 2
}

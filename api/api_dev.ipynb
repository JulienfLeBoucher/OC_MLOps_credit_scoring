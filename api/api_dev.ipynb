{
 "cells": [
  {
   "cell_type": "markdown",
   "metadata": {},
   "source": [
    "# Explore load model information through mlflow pyfunc"
   ]
  },
  {
   "cell_type": "code",
   "execution_count": 12,
   "metadata": {},
   "outputs": [],
   "source": [
    "import mlflow.pyfunc\n",
    "import mlflow\n",
    "import pandas as pd\n"
   ]
  },
  {
   "cell_type": "code",
   "execution_count": 7,
   "metadata": {},
   "outputs": [
    {
     "data": {
      "text/plain": [
       "'file:///home/louberehc/OCR/projets/7_scoring_model/mlruns'"
      ]
     },
     "execution_count": 7,
     "metadata": {},
     "output_type": "execute_result"
    }
   ],
   "source": [
    "mlflow.set_tracking_uri(\"file:///home/louberehc/OCR/projets/7_scoring_model/mlruns\")\n",
    "tracking_uri = mlflow.get_tracking_uri()\n",
    "tracking_uri"
   ]
  },
  {
   "cell_type": "code",
   "execution_count": 8,
   "metadata": {},
   "outputs": [
    {
     "name": "stderr",
     "output_type": "stream",
     "text": [
      "2023/09/12 11:04:36 INFO mlflow.pyfunc: To install the dependencies that were used to train the model, run the following command: '%pip install -r /home/louberehc/OCR/projets/7_scoring_model/mlruns/122196375156606001/de0e63da02a1439c8aae7fb7074e33a6/artifacts/lgbm_model/requirements.txt'.\n"
     ]
    }
   ],
   "source": [
    "def make_model_uri(model_name: str, stage: str):\n",
    "    return f\"models:/{model_name}/{stage}\"\n",
    "\n",
    "\n",
    "def load_model(model_uri):\n",
    "    \"\"\" Load the model from the artifacts in the MLflow model registry \"\"\"\n",
    "    return mlflow.pyfunc.load_model(model_uri=model_uri)\n",
    "\n",
    "\n",
    "def load_data(DATA_PATH):\n",
    "    \"\"\" Load both the features and the target associated to customers \"\"\"\n",
    "    df = pd.read_pickle(DATA_PATH).astype(\"float64\")\n",
    "    target = df.pop('TARGET')\n",
    "    return df, target\n",
    "\n",
    "# Load model and data\n",
    "model_name = \"lgbm_test\"\n",
    "stage = \"Staging\"\n",
    "APP_DATA_PATH = \"/home/louberehc/OCR/projets/7_scoring_model/pickle_files/reduced_data.pkl\"\n",
    "\n",
    "model_uri = make_model_uri(model_name, stage)\n",
    "requirements = mlflow.pyfunc.get_model_dependencies(model_uri)\n"
   ]
  },
  {
   "cell_type": "code",
   "execution_count": 5,
   "metadata": {},
   "outputs": [
    {
     "data": {
      "text/plain": [
       "'/home/louberehc/OCR/projets/7_scoring_model/mlruns/122196375156606001/de0e63da02a1439c8aae7fb7074e33a6/artifacts/lgbm_model/requirements.txt'"
      ]
     },
     "execution_count": 5,
     "metadata": {},
     "output_type": "execute_result"
    }
   ],
   "source": [
    "requirements"
   ]
  },
  {
   "cell_type": "code",
   "execution_count": 1,
   "metadata": {},
   "outputs": [
    {
     "name": "stdout",
     "output_type": "stream",
     "text": [
      "mlflow==2.5.0\n",
      "cloudpickle==2.2.1\n",
      "lightgbm==4.0.0\n",
      "matplotlib==3.7.2\n",
      "numpy==1.25.2\n",
      "packaging==23.1\n",
      "pandas==2.0.3\n",
      "scikit-learn==1.3.0\n",
      "scipy==1.11.2\n",
      "typing-extensions==4.7.1"
     ]
    }
   ],
   "source": [
    "!cat '/home/louberehc/OCR/projets/7_scoring_model/mlruns/122196375156606001/de0e63da02a1439c8aae7fb7074e33a6/artifacts/lgbm_model/requirements.txt'"
   ]
  },
  {
   "cell_type": "code",
   "execution_count": 5,
   "metadata": {},
   "outputs": [
    {
     "name": "stderr",
     "output_type": "stream",
     "text": [
      "2023/09/12 10:15:26 WARNING mlflow.pyfunc: Detected one or more mismatches between the model's dependencies and the current Python environment:\n",
      " - numpy (current: 1.24.4, required: numpy==1.25.2)\n",
      " - scipy (current: 1.11.1, required: scipy==1.11.2)\n",
      "To fix the mismatches, call `mlflow.pyfunc.get_model_dependencies(model_uri)` to fetch the model's environment and install dependencies using the resulting environment file.\n"
     ]
    }
   ],
   "source": [
    "model = load_model(model_uri)\n",
    "features, target = load_data(APP_DATA_PATH)\n",
    "valid_customer_ids = features.index\n",
    "\n"
   ]
  },
  {
   "cell_type": "markdown",
   "metadata": {},
   "source": [
    "# Find the model best threshold in MLflow tracking info"
   ]
  },
  {
   "cell_type": "code",
   "execution_count": 32,
   "metadata": {},
   "outputs": [
    {
     "name": "stdout",
     "output_type": "stream",
     "text": [
      "{   'aliases': {},\n",
      "    'creation_timestamp': 1694423489278,\n",
      "    'description': '',\n",
      "    'last_updated_timestamp': 1694424048885,\n",
      "    'latest_versions': [   <ModelVersion: aliases=[], creation_timestamp=1694423489478, current_stage='Staging', description='A first model built on only 1600 individuals to develop a draft API.', last_updated_timestamp=1694424193969, name='lgbm_test', run_id='de0e63da02a1439c8aae7fb7074e33a6', run_link='', source='file:///home/louberehc/OCR/projets/7_scoring_model/mlruns/122196375156606001/de0e63da02a1439c8aae7fb7074e33a6/artifacts/lgbm_model', status='READY', status_message=None, tags={}, user_id=None, version=1>],\n",
      "    'name': 'lgbm_test',\n",
      "    'tags': {}}\n"
     ]
    }
   ],
   "source": [
    "from pprint import pprint\n",
    "from mlflow import MlflowClient\n",
    "\n",
    "client = MlflowClient()\n",
    "for rm in client.search_registered_models():\n",
    "    pprint(dict(rm), indent=4)\n",
    "\n"
   ]
  },
  {
   "cell_type": "code",
   "execution_count": 31,
   "metadata": {},
   "outputs": [
    {
     "name": "stdout",
     "output_type": "stream",
     "text": [
      "{   'aliases': [],\n",
      "    'creation_timestamp': 1694423489478,\n",
      "    'current_stage': 'Staging',\n",
      "    'description': 'A first model built on only 1600 individuals to develop a '\n",
      "                   'draft API.',\n",
      "    'last_updated_timestamp': 1694424193969,\n",
      "    'name': 'lgbm_test',\n",
      "    'run_id': 'de0e63da02a1439c8aae7fb7074e33a6',\n",
      "    'run_link': '',\n",
      "    'source': 'file:///home/louberehc/OCR/projets/7_scoring_model/mlruns/122196375156606001/de0e63da02a1439c8aae7fb7074e33a6/artifacts/lgbm_model',\n",
      "    'status': 'READY',\n",
      "    'status_message': None,\n",
      "    'tags': {},\n",
      "    'user_id': None,\n",
      "    'version': 1}\n"
     ]
    }
   ],
   "source": [
    "client = MlflowClient()\n",
    "for mv in client.search_model_versions(f\"name='lgbm_test'\"):\n",
    "    pprint(dict(mv), indent=4)\n",
    "    "
   ]
  },
  {
   "cell_type": "code",
   "execution_count": 22,
   "metadata": {},
   "outputs": [
    {
     "data": {
      "text/plain": [
       "'de0e63da02a1439c8aae7fb7074e33a6'"
      ]
     },
     "execution_count": 22,
     "metadata": {},
     "output_type": "execute_result"
    }
   ],
   "source": [
    "mv.run_id"
   ]
  },
  {
   "cell_type": "code",
   "execution_count": 26,
   "metadata": {},
   "outputs": [
    {
     "data": {
      "text/plain": [
       "{'test_loss_of_income': 0.375,\n",
       " 'test_AUC': 0.6676575014449674,\n",
       " 'test_f2': 0.3333333333333333,\n",
       " 'train_AUC': 0.8113609985542953,\n",
       " 'train_loss_of_income': 0.21625,\n",
       " 'train_threshold_loss_of_income': 0.15,\n",
       " 'train_threshold_f2': 0.15,\n",
       " 'train_threshold_AUC': 0.13,\n",
       " 'train_f2': 0.6124999999999999}"
      ]
     },
     "execution_count": 26,
     "metadata": {},
     "output_type": "execute_result"
    }
   ],
   "source": [
    "run = mlflow.get_run(run_id=mv.run_id)\n",
    "run.data.metrics\n"
   ]
  },
  {
   "cell_type": "code",
   "execution_count": 27,
   "metadata": {},
   "outputs": [
    {
     "data": {
      "text/plain": [
       "0.15"
      ]
     },
     "execution_count": 27,
     "metadata": {},
     "output_type": "execute_result"
    }
   ],
   "source": [
    "run.data.metrics['train_threshold_loss_of_income']"
   ]
  },
  {
   "cell_type": "code",
   "execution_count": 35,
   "metadata": {},
   "outputs": [],
   "source": [
    "def get_model_run_id_from_name_stage_version(\n",
    "    name: str,\n",
    "    stage: str,\n",
    "    version: int,\n",
    ") -> str:\n",
    "    \"\"\" return the model rnu_id from some information of the model registered\n",
    "    in the model registry.\n",
    "    \n",
    "    TODO: add check of name, stage and version and return error accordling\n",
    "    if no model is found.\"\"\"\n",
    "    client = MlflowClient()\n",
    "    for mv in client.search_model_versions(f\"name='{name}'\"):\n",
    "        if (mv.current_stage == stage) and (mv.version == version):\n",
    "            return mv.run_id\n",
    "    return None     "
   ]
  },
  {
   "cell_type": "code",
   "execution_count": 36,
   "metadata": {},
   "outputs": [
    {
     "data": {
      "text/plain": [
       "'de0e63da02a1439c8aae7fb7074e33a6'"
      ]
     },
     "execution_count": 36,
     "metadata": {},
     "output_type": "execute_result"
    }
   ],
   "source": [
    "get_model_run_id_from_name_stage_version('lgbm_test', 'Staging', 1)"
   ]
  },
  {
   "cell_type": "code",
   "execution_count": null,
   "metadata": {},
   "outputs": [],
   "source": []
  }
 ],
 "metadata": {
  "kernelspec": {
   "display_name": "p7",
   "language": "python",
   "name": "python3"
  },
  "language_info": {
   "codemirror_mode": {
    "name": "ipython",
    "version": 3
   },
   "file_extension": ".py",
   "mimetype": "text/x-python",
   "name": "python",
   "nbconvert_exporter": "python",
   "pygments_lexer": "ipython3",
   "version": "3.11.4"
  },
  "orig_nbformat": 4
 },
 "nbformat": 4,
 "nbformat_minor": 2
}

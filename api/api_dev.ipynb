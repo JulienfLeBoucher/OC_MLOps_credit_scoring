{
 "cells": [
  {
   "cell_type": "markdown",
   "metadata": {},
   "source": [
    "# Explore load model information through mlflow pyfunc"
   ]
  },
  {
   "cell_type": "code",
   "execution_count": 2,
   "metadata": {},
   "outputs": [],
   "source": [
    "import mlflow.pyfunc\n",
    "import mlflow\n",
    "import pandas as pd\n"
   ]
  },
  {
   "cell_type": "code",
   "execution_count": 3,
   "metadata": {},
   "outputs": [
    {
     "data": {
      "text/plain": [
       "'file:///home/louberehc/OCR/projets/7_scoring_model/mlruns'"
      ]
     },
     "execution_count": 3,
     "metadata": {},
     "output_type": "execute_result"
    }
   ],
   "source": [
    "mlflow.set_tracking_uri(\"file:///home/louberehc/OCR/projets/7_scoring_model/mlruns\")\n",
    "tracking_uri = mlflow.get_tracking_uri()\n",
    "tracking_uri"
   ]
  },
  {
   "cell_type": "code",
   "execution_count": 4,
   "metadata": {},
   "outputs": [
    {
     "name": "stderr",
     "output_type": "stream",
     "text": [
      "2023/09/11 18:34:40 INFO mlflow.pyfunc: To install the dependencies that were used to train the model, run the following command: '%pip install -r /home/louberehc/OCR/projets/7_scoring_model/mlruns/122196375156606001/de0e63da02a1439c8aae7fb7074e33a6/artifacts/lgbm_model/requirements.txt'.\n"
     ]
    }
   ],
   "source": [
    "def make_model_uri(model_name: str, stage: str):\n",
    "    return f\"models:/{model_name}/{stage}\"\n",
    "\n",
    "\n",
    "def load_model(model_uri):\n",
    "    \"\"\" Load the model from the artifacts in the MLflow model registry \"\"\"\n",
    "    return mlflow.pyfunc.load_model(model_uri=model_uri)\n",
    "\n",
    "\n",
    "def load_data(DATA_PATH):\n",
    "    \"\"\" Load both the features and the target associated to customers \"\"\"\n",
    "    df = pd.read_pickle(DATA_PATH).astype(\"float64\")\n",
    "    target = df.pop('TARGET')\n",
    "    return df, target\n",
    "\n",
    "# Load model and data\n",
    "model_name = \"lgbm_test\"\n",
    "stage = \"Staging\"\n",
    "APP_DATA_PATH = \"/home/louberehc/OCR/projets/7_scoring_model/pickle_files/reduced_data.pkl\"\n",
    "\n",
    "model_uri = make_model_uri(model_name, stage)\n",
    "requirements = mlflow.pyfunc.get_model_dependencies(model_uri)\n"
   ]
  },
  {
   "cell_type": "code",
   "execution_count": 5,
   "metadata": {},
   "outputs": [
    {
     "data": {
      "text/plain": [
       "'/home/louberehc/OCR/projets/7_scoring_model/mlruns/122196375156606001/de0e63da02a1439c8aae7fb7074e33a6/artifacts/lgbm_model/requirements.txt'"
      ]
     },
     "execution_count": 5,
     "metadata": {},
     "output_type": "execute_result"
    }
   ],
   "source": [
    "requirements"
   ]
  },
  {
   "cell_type": "code",
   "execution_count": null,
   "metadata": {},
   "outputs": [],
   "source": [
    "model = load_model(model_uri)\n",
    "features, target = load_data(APP_DATA_PATH)\n",
    "valid_customer_ids = features.index\n",
    "\n"
   ]
  },
  {
   "cell_type": "code",
   "execution_count": null,
   "metadata": {},
   "outputs": [
    {
     "ename": "",
     "evalue": "",
     "output_type": "error",
     "traceback": [
      "\u001b[1;31mRunning cells with '/home/louberehc/.pyenv/versions/3.11.4/bin/python' requires the ipykernel package.\n",
      "\u001b[1;31mRun the following command to install 'ipykernel' into the Python environment. \n",
      "\u001b[1;31mCommand: '/home/louberehc/.pyenv/versions/3.11.4/bin/python -m pip install ipykernel -U --force-reinstall'"
     ]
    }
   ],
   "source": []
  },
  {
   "cell_type": "code",
   "execution_count": null,
   "metadata": {},
   "outputs": [],
   "source": []
  }
 ],
 "metadata": {
  "kernelspec": {
   "display_name": "p7",
   "language": "python",
   "name": "python3"
  },
  "language_info": {
   "codemirror_mode": {
    "name": "ipython",
    "version": 3
   },
   "file_extension": ".py",
   "mimetype": "text/x-python",
   "name": "python",
   "nbconvert_exporter": "python",
   "pygments_lexer": "ipython3",
   "version": "3.11.4"
  },
  "orig_nbformat": 4
 },
 "nbformat": 4,
 "nbformat_minor": 2
}
